{
 "cells": [
  {
   "cell_type": "markdown",
   "metadata": {},
   "source": [
    "# Challenge 4: Anomaly Detection for VPN Security\n",
    "\n",
    "## Task Description\n",
    "In this challenge, we need to:\n",
    "1. Detect suspicious patterns in VPN connection attempts\n",
    "2. Identify rapid country-hopping (same user connecting from different countries)\n",
    "3. Detect potential brute force attacks (multiple failed connections)\n",
    "4. Flag anomalous activity for further investigation"
   ]
  },
  {
   "cell_type": "markdown",
   "metadata": {},
   "source": [
    "## Prerequisites\n",
    "Complete Challenges 1-3 to have streaming data with windows and aggregations."
   ]
  },
  {
   "cell_type": "code",
   "execution_count": null,
   "metadata": {},
   "source": [
    "from pyspark.sql import SparkSession\n",
    "from pyspark.sql.functions import *\n",
    "from pyspark.sql.types import *\n",
    "\n",
    "# Create a Spark session\n",
    "spark = SparkSession.builder \\\n",
    "    .appName(\"VPN Security Stream Processing\") \\\n",
    "    .master(\"local[*]\") \\\n",
    "    .config(\"spark.sql.shuffle.partitions\", \"8\") \\\n",
    "    .config(\"spark.jars.packages\", \"org.apache.spark:spark-sql-kafka-0-10_2.12:3.4.1\") \\\n",
    "    .getOrCreate()\n",
    "\n",
    "# Set log level\n",
    "spark.sparkContext.setLogLevel(\"WARN\")\n",
    "\n",
    "# Assume we have df_with_watermark from Challenge 3"
   ]
  },
  {
   "cell_type": "markdown",
   "metadata": {},
   "source": [
    "## Country-Hopping Detection"
   ]
  },
  {
   "cell_type": "code",
   "execution_count": null,
   "metadata": {},
   "source": [
    "# TODO: Detect users connecting from multiple countries in a short timeframe\n",
    "# Hint: Group by user_id and count distinct countries within time windows\n",
    "\n",
    "country_hopping_df = df_with_watermark \\\n",
    "    .groupBy(\n",
    "        window(col(\"event_time\"), \"10 minutes\"),\n",
    "        col(\"user_id\")\n",
    "    ) \\\n",
    "    .agg(\n",
    "        collect_set(\"country\").alias(\"countries\"),\n",
    "        count(\"*\").alias(\"connection_count\")\n",
    "    ) \\\n",
    "    .select(\n",
    "        col(\"window\"),\n",
    "        col(\"user_id\"),\n",
    "        col(\"countries\"),\n",
    "        col(\"connection_count\"),\n",
    "        size(col(\"countries\")).alias(\"country_count\")\n",
    "    ) \\\n",
    "    .filter(col(\"country_count\") >= 2)  # Adjust threshold as needed"
   ]
  },
  {
   "cell_type": "markdown",
   "metadata": {},
   "source": [
    "## Brute Force Detection"
   ]
  },
  {
   "cell_type": "code",
   "execution_count": null,
   "metadata": {},
   "source": [
    "# TODO: Detect multiple failed connection attempts\n",
    "# Hint: Look for patterns of consecutive failures\n",
    "\n",
    "brute_force_df = df_with_watermark \\\n",
    "    .filter(col(\"is_successful\") == False) \\\n",
    "    .groupBy(\n",
    "        window(col(\"event_time\"), \"5 minutes\"),\n",
    "        col(\"user_id\")\n",
    "    ) \\\n",
    "    .agg(\n",
    "        count(\"*\").alias(\"failed_attempts\")\n",
    "    ) \\\n",
    "    .filter(col(\"failed_attempts\") >= 5)  # Adjust threshold as needed"
   ]
  },
  {
   "cell_type": "markdown",
   "metadata": {},
   "source": [
    "## Unusual Access Patterns"
   ]
  },
  {
   "cell_type": "code",
   "execution_count": null,
   "metadata": {},
   "source": [
    "# TODO: Detect access from unusual countries for a user\n",
    "# Hint: You might need to track historical patterns and compare\n",
    "\n",
    "# TODO: Identify irregular connection times\n",
    "# Hint: Look at the hour of day distribution"
   ]
  },
  {
   "cell_type": "markdown",
   "metadata": {},
   "source": [
    "## Combining Anomaly Signals"
   ]
  },
  {
   "cell_type": "code",
   "execution_count": null,
   "metadata": {},
   "source": [
    "# TODO: Create a unified view of security alerts\n",
    "# Combine different anomaly signals with appropriate severity levels\n",
    "\n",
    "alerts_df = country_hopping_df.select(\n",
    "    col(\"window.end\").alias(\"alert_time\"),\n",
    "    col(\"user_id\"),\n",
    "    lit(\"country_hopping\").alias(\"alert_type\"),\n",
    "    col(\"country_count\").alias(\"severity_factor\"),\n",
    "    map(\n",
    "        lit(\"countries\"), col(\"countries\"),\n",
    "        lit(\"connection_count\"), col(\"connection_count\")\n",
    "    ).alias(\"details\")\n",
    ")\n",
    "\n",
    "# TODO: Join with other alert types"
   ]
  },
  {
   "cell_type": "markdown",
   "metadata": {},
   "source": [
    "## Output Alerts"
   ]
  },
  {
   "cell_type": "code",
   "execution_count": null,
   "metadata": {},
   "source": [
    "# Write alerts to console for monitoring\n",
    "alert_query = alerts_df \\\n",
    "    .writeStream \\\n",
    "    .outputMode(\"update\") \\\n",
    "    .format(\"console\") \\\n",
    "    .option(\"truncate\", False) \\\n",
    "    .start()"
   ]
  },
  {
   "cell_type": "markdown",
   "metadata": {},
   "source": [
    "## Notes and Hints\n",
    "- Consider what constitutes \"normal\" vs. \"suspicious\" behavior\n",
    "- You might need different thresholds for different types of users\n",
    "- Consider time of day in your anomaly detection\n",
    "- Remember that false positives are also problematic"
   ]
  }
 ],
 "metadata": {
  "kernelspec": {
   "display_name": "Python 3",
   "language": "python",
   "name": "python3"
  },
  "language_info": {
   "codemirror_mode": {
    "name": "ipython",
    "version": 3
   },
   "file_extension": ".py",
   "mimetype": "text/x-python",
   "name": "python",
   "nbconvert_exporter": "python",
   "pygments_lexer": "ipython3",
   "version": "3.8.10"
  }
 },
 "nbformat": 4,
 "nbformat_minor": 4
}
