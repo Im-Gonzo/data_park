{
 "cells": [
  {
   "cell_type": "markdown",
   "metadata": {},
   "source": [
    "# Challenge 2: Basic Transformations for VPN Event Stream\n",
    "\n",
    "## Task Description\n",
    "In this challenge, we need to:\n",
    "1. Parse JSON data from Kafka messages\n",
    "2. Extract relevant fields\n",
    "3. Apply transformations to derive new columns\n",
    "4. Filter events based on conditions"
   ]
  },
  {
   "cell_type": "markdown",
   "metadata": {},
   "source": [
    "## Setup\n",
    "Use the same Spark session setup from Challenge 1."
   ]
  },
  {
   "cell_type": "code",
   "execution_count": null,
   "metadata": {},
   "source": [
    "from pyspark.sql import SparkSession\n",
    "from pyspark.sql.functions import *\n",
    "from pyspark.sql.types import *\n",
    "\n",
    "# Create a Spark session\n",
    "spark = SparkSession.builder \\\n",
    "    .appName(\"VPN Security Stream Processing\") \\\n",
    "    .master(\"local[*]\") \\\n",
    "    .config(\"spark.sql.shuffle.partitions\", \"8\") \\\n",
    "    .config(\"spark.jars.packages\", \"org.apache.spark:spark-sql-kafka-0-10_2.12:3.4.1\") \\\n",
    "    .getOrCreate()\n",
    "\n",
    "# Set log level\n",
    "spark.sparkContext.setLogLevel(\"WARN\")"
   ]
  },
  {
   "cell_type": "markdown",
   "metadata": {},
   "source": [
    "## Parse JSON and Extract Fields"
   ]
  },
  {
   "cell_type": "code",
   "execution_count": null,
   "metadata": {},
   "source": [
    "# Recreate stream connection\n",
    "kafka_bootstrap_servers = \"kafka:9092\"\n",
    "kafka_topic = \"vpn_connection_events\"\n",
    "\n",
    "stream_df = spark \\\n",
    "    .readStream \\\n",
    "    .format(\"kafka\") \\\n",
    "    .option(\"kafka.bootstrap.servers\", kafka_bootstrap_servers) \\\n",
    "    .option(\"subscribe\", kafka_topic) \\\n",
    "    .option(\"startingOffsets\", \"earliest\") \\\n",
    "    .load()\n",
    "\n",
    "# Parse value column from Kafka (contains JSON data)\n",
    "parsed_df = stream_df.selectExpr(\"CAST(value AS STRING)\")\n",
    "\n",
    "# Define schema for the JSON data\n",
    "schema = StructType([\n",
    "    # TODO: Complete the schema based on Challenge 1\n",
    "])\n",
    "\n",
    "# TODO: Convert JSON string to structured data\n",
    "# Hint: Use from_json() function with the schema defined above\n",
    "parsed_json_df = parsed_df.select(\n",
    "    # TODO: Use from_json to parse the JSON string\n",
    ")\n",
    "\n",
    "# TODO: Select and rename columns as needed\n",
    "# Hint: Extract fields from the parsed JSON structure\n",
    "transformed_df = parsed_json_df.select(\n",
    "    # Select fields from the parsed JSON\n",
    "    # Example: col(\"data.user_id\").alias(\"user_id\")\n",
    ")"
   ]
  },
  {
   "cell_type": "markdown",
   "metadata": {},
   "source": [
    "## Add Derived Columns"
   ]
  },
  {
   "cell_type": "code",
   "execution_count": null,
   "metadata": {},
   "source": [
    "# TODO: Add derived columns based on existing data\n",
    "enriched_df = transformed_df \\\n",
    "    .withColumn(\"event_time\", to_timestamp(col(\"timestamp\"))) \\\n",
    "    .withColumn(\"is_mobile\", /* TODO: Logic to determine if device is mobile */) \\\n",
    "    .withColumn(\"is_successful\", /* TODO: Logic to check if connection was successful */) \\\n",
    "    .withColumn(\"event_hour\", hour(col(\"event_time\"))) \\\n",
    "    .withColumn(\"event_date\", to_date(col(\"event_time\")))\n",
    "\n",
    "# TODO: Add any other useful derived columns"
   ]
  },
  {
   "cell_type": "markdown",
   "metadata": {},
   "source": [
    "## Apply Filters"
   ]
  },
  {
   "cell_type": "code",
   "execution_count": null,
   "metadata": {},
   "source": [
    "# TODO: Filter for specific conditions\n",
    "# Examples:\n",
    "# - Only successful connections\n",
    "# - Only mobile devices\n",
    "# - Connections from specific countries\n",
    "filtered_df = enriched_df.filter(/* TODO: Add filter conditions */)"
   ]
  },
  {
   "cell_type": "markdown",
   "metadata": {},
   "source": [
    "## Output Stream"
   ]
  },
  {
   "cell_type": "code",
   "execution_count": null,
   "metadata": {},
   "source": [
    "# Display the transformed and enriched stream\n",
    "query = enriched_df \\\n",
    "    .writeStream \\\n",
    "    .outputMode(\"append\") \\\n",
    "    .format(\"console\") \\\n",
    "    .option(\"truncate\", False) \\\n",
    "    .start()\n",
    "\n",
    "query.awaitTermination()"
   ]
  },
  {
   "cell_type": "markdown",
   "metadata": {},
   "source": [
    "## Testing Notes\n",
    "- Make sure your JSON parsing matches the actual data format\n",
    "- Verify derived columns work as expected\n",
    "- Check that filter conditions are working correctly"
   ]
  }
 ],
 "metadata": {
  "kernelspec": {
   "display_name": "Python 3",
   "language": "python",
   "name": "python3"
  },
  "language_info": {
   "codemirror_mode": {
    "name": "ipython",
    "version": 3
   },
   "file_extension": ".py",
   "mimetype": "text/x-python",
   "name": "python",
   "nbconvert_exporter": "python",
   "pygments_lexer": "ipython3",
   "version": "3.8.10"
  }
 },
 "nbformat": 4,
 "nbformat_minor": 4
}
