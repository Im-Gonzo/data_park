{
 "cells": [
  {
   "cell_type": "markdown",
   "metadata": {},
   "source": [
    "# Challenge 5: PostgreSQL Integration for Security Analytics\n",
    "\n",
    "## Task Description\n",
    "In this challenge, we need to:\n",
    "1. Write streaming results to PostgreSQL for persistence\n",
    "2. Configure proper checkpointing for fault tolerance\n",
    "3. Implement different output modes based on use cases\n",
    "4. Ensure exactly-once semantics for critical data"
   ]
  },
  {
   "cell_type": "markdown",
   "metadata": {},
   "source": [
    "## Prerequisites\n",
    "Complete Challenges 1-4 to have streaming data with anomaly detection."
   ]
  },
  {
   "cell_type": "code",
   "execution_count": null,
   "metadata": {},
   "source": [
    "from pyspark.sql import SparkSession\n",
    "from pyspark.sql.functions import *\n",
    "from pyspark.sql.types import *\n",
    "\n",
    "# Create a Spark session\n",
    "spark = SparkSession.builder \\\n",
    "    .appName(\"VPN Security Stream Processing\") \\\n",
    "    .master(\"local[*]\") \\\n",
    "    .config(\"spark.sql.shuffle.partitions\", \"8\") \\\n",
    "    .config(\"spark.jars.packages\", \"org.apache.spark:spark-sql-kafka-0-10_2.12:3.4.1\") \\\n",
    "    .getOrCreate()\n",
    "\n",
    "# Set log level\n",
    "spark.sparkContext.setLogLevel(\"WARN\")\n",
    "\n",
    "# Assume we have alerts_df from Challenge 4"
   ]
  },
  {
   "cell_type": "markdown",
   "metadata": {},
   "source": [
    "## Setting up the PostgreSQL Sink"
   ]
  },
  {
   "cell_type": "code",
   "execution_count": null,
   "metadata": {},
   "source": [
    "# Define connection properties\n",
    "jdbc_url = \"jdbc:postgresql://postgres:5432/datamart\"\n",
    "connection_properties = {\n",
    "    \"user\": \"spark\",\n",
    "    \"password\": \"spark\",\n",
    "    \"driver\": \"org.postgresql.Driver\"\n",
    "}\n",
    "\n",
    "# TODO: Define a function to write to PostgreSQL\n",
    "def write_to_postgres(df, epoch_id):\n",
    "    # Write dataframe to PostgreSQL\n",
    "    # Note: This is called for each micro-batch\n",
    "    df.write \\\n",
    "        .jdbc(\n",
    "            url=jdbc_url,\n",
    "            table=\"security_alerts\",\n",
    "            mode=\"append\",\n",
    "            properties=connection_properties\n",
    "        )"
   ]
  },
  {
   "cell_type": "markdown",
   "metadata": {},
   "source": [
    "## Configuring Checkpointing"
   ]
  },
  {
   "cell_type": "code",
   "execution_count": null,
   "metadata": {},
   "source": [
    "# TODO: Set up checkpoint directory for fault tolerance\n",
    "checkpoint_path = \"/tmp/spark-checkpoints/security-analytics\"\n",
    "\n",
    "# Alternative: Use a more permanent location like HDFS or S3\n",
    "# checkpoint_path = \"hdfs:///checkpoints/security-analytics\""
   ]
  },
  {
   "cell_type": "markdown",
   "metadata": {},
   "source": [
    "## Writing Aggregations to PostgreSQL"
   ]
  },
  {
   "cell_type": "code",
   "execution_count": null,
   "metadata": {},
   "source": [
    "# Write security alerts to PostgreSQL\n",
    "postgres_query = alerts_df \\\n",
    "    .writeStream \\\n",
    "    .foreachBatch(write_to_postgres) \\\n",
    "    .option(\"checkpointLocation\", checkpoint_path + \"/alerts\") \\\n",
    "    .start()"
   ]
  },
  {
   "cell_type": "markdown",
   "metadata": {},
   "source": [
    "## Writing Dashboard Metrics"
   ]
  },
  {
   "cell_type": "code",
   "execution_count": null,
   "metadata": {},
   "source": [
    "# TODO: Write aggregated metrics for dashboard\n",
    "# Hint: Use update mode for dashboards that need real-time updates\n",
    "\n",
    "dashboard_metrics = df_with_watermark \\\n",
    "    .groupBy(\n",
    "        window(col(\"event_time\"), \"1 minute\"),\n",
    "        col(\"country\")\n",
    "    ) \\\n",
    "    .agg(\n",
    "        count(\"*\").alias(\"connection_count\"),\n",
    "        sum(when(col(\"is_successful\") == True, 1).otherwise(0)).alias(\"successful_connections\"),\n",
    "        sum(when(col(\"is_successful\") == False, 1).otherwise(0)).alias(\"failed_connections\")\n",
    "    )\n",
    "\n",
    "# Write metrics for dashboard\n",
    "dashboard_query = dashboard_metrics \\\n",
    "    .writeStream \\\n",
    "    .foreachBatch(lambda df, epoch_id: df.write \\\n",
    "        .jdbc(\n",
    "            url=jdbc_url,\n",
    "            table=\"connection_metrics\",\n",
    "            mode=\"append\",\n",
    "            properties=connection_properties\n",
    "        )) \\\n",
    "    .option(\"checkpointLocation\", checkpoint_path + \"/metrics\") \\\n",
    "    .start()"
   ]
  },
  {
   "cell_type": "markdown",
   "metadata": {},
   "source": [
    "## Schema Evolution Considerations"
   ]
  },
  {
   "cell_type": "code",
   "execution_count": null,
   "metadata": {},
   "source": [
    "# TODO: Handle schema evolution\n",
    "# Consider how to handle schema changes without breaking the pipeline"
   ]
  },
  {
   "cell_type": "markdown",
   "metadata": {},
   "source": [
    "## Exactly-Once Semantics"
   ]
  },
  {
   "cell_type": "code",
   "execution_count": null,
   "metadata": {},
   "source": [
    "# TODO: Implement transaction management for exactly-once semantics\n",
    "# Hint: You might need to use transactions with PostgreSQL"
   ]
  },
  {
   "cell_type": "markdown",
   "metadata": {},
   "source": [
    "## Testing Notes\n",
    "- Make sure database tables exist before running\n",
    "- Verify data is correctly persisted to PostgreSQL\n",
    "- Test recovery from failures using checkpoint information\n",
    "- Check that duplicate data isn't written on restart"
   ]
  }
 ],
 "metadata": {
  "kernelspec": {
   "display_name": "Python 3",
   "language": "python",
   "name": "python3"
  },
  "language_info": {
   "codemirror_mode": {
    "name": "ipython",
    "version": 3
   },
   "file_extension": ".py",
   "mimetype": "text/x-python",
   "name": "python",
   "nbconvert_exporter": "python",
   "pygments_lexer": "ipython3",
   "version": "3.8.10"
  }
 },
 "nbformat": 4,
 "nbformat_minor": 4
}
