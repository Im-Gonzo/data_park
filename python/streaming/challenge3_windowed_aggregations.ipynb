{
 "cells": [
  {
   "cell_type": "markdown",
   "metadata": {},
   "source": [
    "# Challenge 3: Windowed Aggregations for VPN Events\n",
    "\n",
    "## Task Description\n",
    "In this challenge, we need to:\n",
    "1. Apply time windows to the streaming data\n",
    "2. Perform aggregations within these time windows\n",
    "3. Calculate statistics to identify patterns\n",
    "4. Output the results in a meaningful way"
   ]
  },
  {
   "cell_type": "markdown",
   "metadata": {},
   "source": [
    "## Prerequisites\n",
    "Complete Challenges 1 & 2 to have a properly structured streaming DataFrame."
   ]
  },
  {
   "cell_type": "code",
   "execution_count": null,
   "metadata": {},
   "source": [
    "from pyspark.sql import SparkSession\n",
    "from pyspark.sql.functions import *\n",
    "from pyspark.sql.types import *\n",
    "\n",
    "# Create a Spark session\n",
    "spark = SparkSession.builder \\\n",
    "    .appName(\"VPN Security Stream Processing\") \\\n",
    "    .master(\"local[*]\") \\\n",
    "    .config(\"spark.sql.shuffle.partitions\", \"8\") \\\n",
    "    .config(\"spark.jars.packages\", \"org.apache.spark:spark-sql-kafka-0-10_2.12:3.4.1\") \\\n",
    "    .getOrCreate()\n",
    "\n",
    "# Set log level\n",
    "spark.sparkContext.setLogLevel(\"WARN\")\n",
    "\n",
    "# Assume we have the enriched_df from Challenge 2"
   ]
  },
  {
   "cell_type": "markdown",
   "metadata": {},
   "source": [
    "## Define Watermarking and Windows"
   ]
  },
  {
   "cell_type": "code",
   "execution_count": null,
   "metadata": {},
   "source": [
    "# Add watermarking to handle late data\n",
    "# This is crucial for stateful operations like windowing\n",
    "df_with_watermark = enriched_df \\\n",
    "    .withWatermark(\"event_time\", \"10 minutes\")\n",
    "\n",
    "# TODO: Define different types of windows\n",
    "# Hint: Consider both tumbling and sliding windows"
   ]
  },
  {
   "cell_type": "markdown",
   "metadata": {},
   "source": [
    "## Implement Window-based Aggregations"
   ]
  },
  {
   "cell_type": "code",
   "execution_count": null,
   "metadata": {},
   "source": [
    "# TODO: Count connection attempts by user and country in 5-minute windows\n",
    "user_country_counts = df_with_watermark \\\n",
    "    .groupBy(\n",
    "        window(col(\"event_time\"), \"5 minutes\"),\n",
    "        col(\"user_id\"),\n",
    "        col(\"country\")\n",
    "    ) \\\n",
    "    .agg(\n",
    "        # TODO: Add aggregation metrics\n",
    "        # Examples: count, success_ratio, distinct devices\n",
    "    )"
   ]
  },
  {
   "cell_type": "code",
   "execution_count": null,
   "metadata": {},
   "source": [
    "# TODO: Calculate success/failure ratios by country\n",
    "country_metrics = df_with_watermark \\\n",
    "    .groupBy(\n",
    "        window(col(\"event_time\"), \"5 minutes\", \"1 minute\"),  # Sliding window\n",
    "        col(\"country\")\n",
    "    ) \\\n",
    "    .agg(\n",
    "        # TODO: Add aggregation metrics\n",
    "        # Hint: Use sum(when()) for conditional counts\n",
    "    )"
   ]
  },
  {
   "cell_type": "markdown",
   "metadata": {},
   "source": [
    "## Calculate Rate-based Metrics"
   ]
  },
  {
   "cell_type": "code",
   "execution_count": null,
   "metadata": {},
   "source": [
    "# TODO: Calculate connection attempt rates\n",
    "# Hint: You might need to use groupBy and count to calculate rates"
   ]
  },
  {
   "cell_type": "markdown",
   "metadata": {},
   "source": [
    "## Output Aggregation Results"
   ]
  },
  {
   "cell_type": "code",
   "execution_count": null,
   "metadata": {},
   "source": [
    "# TODO: Output window aggregations to console (for development)\n",
    "window_query = user_country_counts \\\n",
    "    .writeStream \\\n",
    "    .outputMode(\"update\")  # Use \"update\" mode for aggregations \\\n",
    "    .format(\"console\") \\\n",
    "    .option(\"truncate\", False) \\\n",
    "    .start()"
   ]
  },
  {
   "cell_type": "markdown",
   "metadata": {},
   "source": [
    "## Notes and Hints\n",
    "- Consider how to interpret the window results\n",
    "- Think about what thresholds would indicate suspicious behavior\n",
    "- Consider both count-based and rate-based aggregations\n",
    "- Remember that windows can slide or tumble (fixed)"
   ]
  }
 ],
 "metadata": {
  "kernelspec": {
   "display_name": "Python 3",
   "language": "python",
   "name": "python3"
  },
  "language_info": {
   "codemirror_mode": {
    "name": "ipython",
    "version": 3
   },
   "file_extension": ".py",
   "mimetype": "text/x-python",
   "name": "python",
   "nbconvert_exporter": "python",
   "pygments_lexer": "ipython3",
   "version": "3.8.10"
  }
 },
 "nbformat": 4,
 "nbformat_minor": 4
}
